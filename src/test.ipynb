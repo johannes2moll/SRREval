{
 "cells": [
  {
   "cell_type": "code",
   "execution_count": 24,
   "metadata": {},
   "outputs": [
    {
     "name": "stdout",
     "output_type": "stream",
     "text": [
      "lodaded  233  reports\n",
      "lodaded  233  reports\n",
      "loaded  161  references\n",
      "loaded  72  references\n"
     ]
    }
   ],
   "source": [
    "import json\n",
    "import datasets\n",
    "import pandas as pd\n",
    "data_path = \"../eval/structured_reports.csv\"\n",
    "data = pd.read_csv(data_path)\n",
    "\n",
    "original_reports = data[\"original_report\"]\n",
    "print(\"lodaded \", len(original_reports), \" reports\")\n",
    "structured_reports = data[\"structured_report\"]    \n",
    "print(\"lodaded \", len(structured_reports), \" reports\")\n",
    "# save the first 100 structured reports as a list in a json\n",
    "structured_reports_mimic = structured_reports[:100].to_list()\n",
    "original_reports_mimic = original_reports[:100].to_list()\n",
    "with open(\"test_predictions_mimic.json\", \"w\") as f:\n",
    "    json.dump(structured_reports_mimic, f)\n",
    "structured_reports_chex = structured_reports[-72:].to_list()\n",
    "original_reports_chex = original_reports[-72:].to_list()\n",
    "with open(\"test_predictions_chexpert.json\", \"w\") as f:\n",
    "    json.dump(structured_reports_chex, f)\n",
    "\n",
    "test_dataset = datasets.load_dataset(\"StanfordAIMI/srrg_findings_impression\", split=\"test_reviewed\")\n",
    "test_dataset_mimic = test_dataset.filter(lambda example: 'mimic' in example['id'])\n",
    "test_dataset_chex = test_dataset.filter(lambda example: 'chexpert' in example['id'])\n",
    "\n",
    "print(\"loaded \", len(test_dataset_mimic), \" references\")   \n",
    "print(\"loaded \", len(test_dataset_chex), \" references\")\n",
    "references_mimic = [example['original_report'] for example in test_dataset_mimic]\n",
    "structured_references_mimic = [example['structured_report'] for example in test_dataset_mimic]\n",
    "references_chex = [example['original_report'] for example in test_dataset_chex]\n",
    "structured_references_chex = [example['structured_report'] for example in test_dataset_chex]"
   ]
  },
  {
   "cell_type": "code",
   "execution_count": 26,
   "metadata": {},
   "outputs": [
    {
     "name": "stdout",
     "output_type": "stream",
     "text": [
      "number of original reports that are not the same:  97\n",
      "number of structured reports that are not the same:  3\n"
     ]
    }
   ],
   "source": [
    "# check if the original reports are the same\n",
    "number = 0\n",
    "number2 = 0\n",
    "for i in range(len(original_reports_mimic)):\n",
    "    if original_reports_mimic[i] != references_mimic[i]:\n",
    "        #print(\"original reports are not the same\")\n",
    "        #print(original_reports[i])\n",
    "        #print(references_original[i])\n",
    "        number += 1\n",
    "        continue\n",
    "    if structured_reports_mimic[i] != structured_references_mimic[i]:\n",
    "        #print(\"structured reports are not the same\")\n",
    "        #print(structured_reports[i])\n",
    "        #print(references_structured[i])\n",
    "        number2 += 1\n",
    "        continue\n",
    "print(\"number of original reports that are not the same: \", number)\n",
    "print(\"number of structured reports that are not the same: \", number2)\n",
    "\n",
    "# save the first 100 structured reports as a list in a json\n",
    "structured_reports_100 = structured_reports[:100].to_list()\n",
    "with open(\"test_predictions_reports_mimic.json\", \"w\") as f:\n",
    "    json.dump(structured_reports_100, f)\n",
    "structured_reports_chex = structured_reports[-72:].to_list()\n",
    "with open(\"test_predictions_chexpert.json\", \"w\") as f:\n",
    "    json.dump(structured_reports_chex, f)\n"
   ]
  },
  {
   "cell_type": "code",
   "execution_count": 19,
   "metadata": {},
   "outputs": [
    {
     "name": "stdout",
     "output_type": "stream",
     "text": [
      "Exam Type: Upright AP view of the chest\n",
      "\n",
      "History: Decreased respiratory rate after toxic ingestion.\n",
      "\n",
      "Technique: Upright anteroposterior chest radiography.\n",
      "\n",
      "Findings:\n",
      "- Lungs and Airways:\n",
      "  - Slightly hyperinflated lungs without focal consolidation.\n",
      "- Pleura:\n",
      "  - No large pleural effusion or pneumothorax.\n",
      "- Cardiovascular:\n",
      "  - Normal cardiac, mediastinal, and hilar contours.\n",
      "- Tubes, Catheters, and Support Devices:\n",
      "  - Multiple clips overlying the right breast and axillary region.\n",
      "\n",
      "Impression:\n",
      "1. No acute cardiopulmonary abnormality.\n"
     ]
    }
   ],
   "source": [
    "print(structured_reports[0])"
   ]
  },
  {
   "cell_type": "code",
   "execution_count": null,
   "metadata": {},
   "outputs": [
    {
     "name": "stdout",
     "output_type": "stream",
     "text": [
      "1 predictions loaded\n",
      "161 references loaded\n",
      "Warning: Number of predictions is less than number of references.\n",
      "Number of predictions: 1\n",
      "Number of references: 161\n",
      "Truncating references to match number of predictions.\n"
     ]
    },
    {
     "ename": "FileNotFoundError",
     "evalue": "[Errno 2] No such file or directory: '/Users/johannes/Library/Caches/radgraph/0.1.2/radgraph-xl.tar.gz'",
     "output_type": "error",
     "traceback": [
      "\u001b[0;31m---------------------------------------------------------------------------\u001b[0m",
      "\u001b[0;31mFileNotFoundError\u001b[0m                         Traceback (most recent call last)",
      "Cell \u001b[0;32mIn[28], line 9\u001b[0m\n\u001b[1;32m      6\u001b[0m ref_findings_mimic_list, ref_impression_mimic_list, pred_findings_mimic_list, pred_impression_mimic_list \u001b[38;5;241m=\u001b[39m get_lists(pred_file_mimic, ref_data_path, dataset_name\u001b[38;5;241m=\u001b[39m\u001b[38;5;124m\"\u001b[39m\u001b[38;5;124mmimic\u001b[39m\u001b[38;5;124m\"\u001b[39m, split\u001b[38;5;241m=\u001b[39m\u001b[38;5;124m\"\u001b[39m\u001b[38;5;124mtest_reviewed\u001b[39m\u001b[38;5;124m\"\u001b[39m)    \n\u001b[1;32m      8\u001b[0m \u001b[38;5;28;01mfrom\u001b[39;00m\u001b[38;5;250m \u001b[39m\u001b[38;5;21;01mStructEval\u001b[39;00m\u001b[38;5;21;01m.\u001b[39;00m\u001b[38;5;21;01mstructeval\u001b[39;00m\u001b[38;5;21;01m.\u001b[39;00m\u001b[38;5;21;01mStructEval\u001b[39;00m\u001b[38;5;250m \u001b[39m\u001b[38;5;28;01mimport\u001b[39;00m StructEval\n\u001b[0;32m----> 9\u001b[0m rr \u001b[38;5;241m=\u001b[39m \u001b[43mStructEval\u001b[49m\u001b[43m(\u001b[49m\u001b[43mdo_radgraph\u001b[49m\u001b[38;5;241;43m=\u001b[39;49m\u001b[38;5;28;43;01mTrue\u001b[39;49;00m\u001b[43m,\u001b[49m\n\u001b[1;32m     10\u001b[0m \u001b[43m                    \u001b[49m\u001b[43mdo_green\u001b[49m\u001b[38;5;241;43m=\u001b[39;49m\u001b[38;5;28;43;01mFalse\u001b[39;49;00m\u001b[43m,\u001b[49m\n\u001b[1;32m     11\u001b[0m \u001b[43m                    \u001b[49m\u001b[43mdo_bleu\u001b[49m\u001b[38;5;241;43m=\u001b[39;49m\u001b[38;5;28;43;01mTrue\u001b[39;49;00m\u001b[43m,\u001b[49m\u001b[43m   \u001b[49m\n\u001b[1;32m     12\u001b[0m \u001b[43m                    \u001b[49m\u001b[43mdo_rouge\u001b[49m\u001b[38;5;241;43m=\u001b[39;49m\u001b[38;5;28;43;01mTrue\u001b[39;49;00m\u001b[43m,\u001b[49m\n\u001b[1;32m     13\u001b[0m \u001b[43m                    \u001b[49m\u001b[43mdo_bertscore\u001b[49m\u001b[38;5;241;43m=\u001b[39;49m\u001b[38;5;28;43;01mTrue\u001b[39;49;00m\u001b[43m,\u001b[49m\n\u001b[1;32m     14\u001b[0m \u001b[43m                    \u001b[49m\u001b[43mdo_diseases\u001b[49m\u001b[38;5;241;43m=\u001b[39;49m\u001b[38;5;28;43;01mTrue\u001b[39;49;00m\u001b[43m)\u001b[49m\n\u001b[1;32m     16\u001b[0m results \u001b[38;5;241m=\u001b[39m rr\u001b[38;5;241m.\u001b[39mforward(refs\u001b[38;5;241m=\u001b[39mref_findings_mimic_list, hyps\u001b[38;5;241m=\u001b[39mpred_findings_mimic_list, section\u001b[38;5;241m=\u001b[39m\u001b[38;5;124m\"\u001b[39m\u001b[38;5;124mfindings\u001b[39m\u001b[38;5;124m\"\u001b[39m, aligned\u001b[38;5;241m=\u001b[39m\u001b[38;5;28;01mFalse\u001b[39;00m)\n\u001b[1;32m     17\u001b[0m \u001b[38;5;28mprint\u001b[39m(results)\n",
      "File \u001b[0;32m/Volumes/sensitive/SRREval/src/StructEval/structeval/StructEval.py:44\u001b[0m, in \u001b[0;36mStructEval.__init__\u001b[0;34m(self, do_radgraph, do_green, do_bleu, do_rouge, do_bertscore, do_diseases, do_chexbert)\u001b[0m\n\u001b[1;32m     42\u001b[0m \u001b[38;5;66;03m# Initialize scorers only once\u001b[39;00m\n\u001b[1;32m     43\u001b[0m \u001b[38;5;28;01mif\u001b[39;00m \u001b[38;5;28mself\u001b[39m\u001b[38;5;241m.\u001b[39mdo_radgraph:\n\u001b[0;32m---> 44\u001b[0m     \u001b[38;5;28mself\u001b[39m\u001b[38;5;241m.\u001b[39mradgraph_scorer \u001b[38;5;241m=\u001b[39m \u001b[43mF1RadGraph\u001b[49m\u001b[43m(\u001b[49m\u001b[43mreward_level\u001b[49m\u001b[38;5;241;43m=\u001b[39;49m\u001b[38;5;124;43m\"\u001b[39;49m\u001b[38;5;124;43mall\u001b[39;49m\u001b[38;5;124;43m\"\u001b[39;49m\u001b[43m,\u001b[49m\u001b[43m \u001b[49m\u001b[43mmodel_type\u001b[49m\u001b[38;5;241;43m=\u001b[39;49m\u001b[38;5;124;43m\"\u001b[39;49m\u001b[38;5;124;43mradgraph-xl\u001b[39;49m\u001b[38;5;124;43m\"\u001b[39;49m\u001b[43m)\u001b[49m\n\u001b[1;32m     45\u001b[0m \u001b[38;5;28;01mif\u001b[39;00m \u001b[38;5;28mself\u001b[39m\u001b[38;5;241m.\u001b[39mdo_bleu:\n\u001b[1;32m     46\u001b[0m     \u001b[38;5;28mself\u001b[39m\u001b[38;5;241m.\u001b[39mbleu_scorer \u001b[38;5;241m=\u001b[39m Bleu()\n",
      "File \u001b[0;32m~/anaconda3/envs/srreval/lib/python3.10/site-packages/radgraph/radgraph.py:177\u001b[0m, in \u001b[0;36mF1RadGraph.__init__\u001b[0;34m(self, reward_level, model_type, **kwargs)\u001b[0m\n\u001b[1;32m    175\u001b[0m \u001b[38;5;28;01massert\u001b[39;00m reward_level \u001b[38;5;129;01min\u001b[39;00m [\u001b[38;5;124m\"\u001b[39m\u001b[38;5;124msimple\u001b[39m\u001b[38;5;124m\"\u001b[39m, \u001b[38;5;124m\"\u001b[39m\u001b[38;5;124mpartial\u001b[39m\u001b[38;5;124m\"\u001b[39m, \u001b[38;5;124m\"\u001b[39m\u001b[38;5;124mcomplete\u001b[39m\u001b[38;5;124m\"\u001b[39m, \u001b[38;5;124m\"\u001b[39m\u001b[38;5;124mall\u001b[39m\u001b[38;5;124m\"\u001b[39m]\n\u001b[1;32m    176\u001b[0m \u001b[38;5;28mself\u001b[39m\u001b[38;5;241m.\u001b[39mreward_level \u001b[38;5;241m=\u001b[39m reward_level\n\u001b[0;32m--> 177\u001b[0m \u001b[38;5;28mself\u001b[39m\u001b[38;5;241m.\u001b[39mradgraph \u001b[38;5;241m=\u001b[39m \u001b[43mRadGraph\u001b[49m\u001b[43m(\u001b[49m\u001b[43mmodel_type\u001b[49m\u001b[38;5;241;43m=\u001b[39;49m\u001b[43mmodel_type\u001b[49m\u001b[43m,\u001b[49m\u001b[43m \u001b[49m\u001b[38;5;241;43m*\u001b[39;49m\u001b[38;5;241;43m*\u001b[39;49m\u001b[43mkwargs\u001b[49m\u001b[43m)\u001b[49m\n",
      "File \u001b[0;32m~/anaconda3/envs/srreval/lib/python3.10/site-packages/radgraph/radgraph.py:85\u001b[0m, in \u001b[0;36mRadGraph.__init__\u001b[0;34m(self, batch_size, cuda, model_type, **kwargs)\u001b[0m\n\u001b[1;32m     83\u001b[0m \u001b[38;5;66;03m# Archive\u001b[39;00m\n\u001b[1;32m     84\u001b[0m \u001b[38;5;28;01mif\u001b[39;00m \u001b[38;5;129;01mnot\u001b[39;00m os\u001b[38;5;241m.\u001b[39mpath\u001b[38;5;241m.\u001b[39mexists(temp_dir):\n\u001b[0;32m---> 85\u001b[0m     \u001b[38;5;28;01mwith\u001b[39;00m \u001b[43mtarfile\u001b[49m\u001b[38;5;241;43m.\u001b[39;49m\u001b[43mopen\u001b[49m\u001b[43m(\u001b[49m\u001b[38;5;28;43mself\u001b[39;49m\u001b[38;5;241;43m.\u001b[39;49m\u001b[43mmodel_path\u001b[49m\u001b[43m,\u001b[49m\u001b[43m \u001b[49m\u001b[38;5;124;43m\"\u001b[39;49m\u001b[38;5;124;43mr:gz\u001b[39;49m\u001b[38;5;124;43m\"\u001b[39;49m\u001b[43m)\u001b[49m \u001b[38;5;28;01mas\u001b[39;00m tar:\n\u001b[1;32m     86\u001b[0m         tar\u001b[38;5;241m.\u001b[39mextractall(path\u001b[38;5;241m=\u001b[39mtemp_dir)\n\u001b[1;32m     88\u001b[0m \u001b[38;5;66;03m# Read config.\u001b[39;00m\n",
      "File \u001b[0;32m~/anaconda3/envs/srreval/lib/python3.10/tarfile.py:1633\u001b[0m, in \u001b[0;36mTarFile.open\u001b[0;34m(cls, name, mode, fileobj, bufsize, **kwargs)\u001b[0m\n\u001b[1;32m   1631\u001b[0m     \u001b[38;5;28;01melse\u001b[39;00m:\n\u001b[1;32m   1632\u001b[0m         \u001b[38;5;28;01mraise\u001b[39;00m CompressionError(\u001b[38;5;124m\"\u001b[39m\u001b[38;5;124munknown compression type \u001b[39m\u001b[38;5;132;01m%r\u001b[39;00m\u001b[38;5;124m\"\u001b[39m \u001b[38;5;241m%\u001b[39m comptype)\n\u001b[0;32m-> 1633\u001b[0m     \u001b[38;5;28;01mreturn\u001b[39;00m \u001b[43mfunc\u001b[49m\u001b[43m(\u001b[49m\u001b[43mname\u001b[49m\u001b[43m,\u001b[49m\u001b[43m \u001b[49m\u001b[43mfilemode\u001b[49m\u001b[43m,\u001b[49m\u001b[43m \u001b[49m\u001b[43mfileobj\u001b[49m\u001b[43m,\u001b[49m\u001b[43m \u001b[49m\u001b[38;5;241;43m*\u001b[39;49m\u001b[38;5;241;43m*\u001b[39;49m\u001b[43mkwargs\u001b[49m\u001b[43m)\u001b[49m\n\u001b[1;32m   1635\u001b[0m \u001b[38;5;28;01melif\u001b[39;00m \u001b[38;5;124m\"\u001b[39m\u001b[38;5;124m|\u001b[39m\u001b[38;5;124m\"\u001b[39m \u001b[38;5;129;01min\u001b[39;00m mode:\n\u001b[1;32m   1636\u001b[0m     filemode, comptype \u001b[38;5;241m=\u001b[39m mode\u001b[38;5;241m.\u001b[39msplit(\u001b[38;5;124m\"\u001b[39m\u001b[38;5;124m|\u001b[39m\u001b[38;5;124m\"\u001b[39m, \u001b[38;5;241m1\u001b[39m)\n",
      "File \u001b[0;32m~/anaconda3/envs/srreval/lib/python3.10/tarfile.py:1679\u001b[0m, in \u001b[0;36mTarFile.gzopen\u001b[0;34m(cls, name, mode, fileobj, compresslevel, **kwargs)\u001b[0m\n\u001b[1;32m   1676\u001b[0m     \u001b[38;5;28;01mraise\u001b[39;00m CompressionError(\u001b[38;5;124m\"\u001b[39m\u001b[38;5;124mgzip module is not available\u001b[39m\u001b[38;5;124m\"\u001b[39m) \u001b[38;5;28;01mfrom\u001b[39;00m\u001b[38;5;250m \u001b[39m\u001b[38;5;28;01mNone\u001b[39;00m\n\u001b[1;32m   1678\u001b[0m \u001b[38;5;28;01mtry\u001b[39;00m:\n\u001b[0;32m-> 1679\u001b[0m     fileobj \u001b[38;5;241m=\u001b[39m \u001b[43mGzipFile\u001b[49m\u001b[43m(\u001b[49m\u001b[43mname\u001b[49m\u001b[43m,\u001b[49m\u001b[43m \u001b[49m\u001b[43mmode\u001b[49m\u001b[43m \u001b[49m\u001b[38;5;241;43m+\u001b[39;49m\u001b[43m \u001b[49m\u001b[38;5;124;43m\"\u001b[39;49m\u001b[38;5;124;43mb\u001b[39;49m\u001b[38;5;124;43m\"\u001b[39;49m\u001b[43m,\u001b[49m\u001b[43m \u001b[49m\u001b[43mcompresslevel\u001b[49m\u001b[43m,\u001b[49m\u001b[43m \u001b[49m\u001b[43mfileobj\u001b[49m\u001b[43m)\u001b[49m\n\u001b[1;32m   1680\u001b[0m \u001b[38;5;28;01mexcept\u001b[39;00m \u001b[38;5;167;01mOSError\u001b[39;00m \u001b[38;5;28;01mas\u001b[39;00m e:\n\u001b[1;32m   1681\u001b[0m     \u001b[38;5;28;01mif\u001b[39;00m fileobj \u001b[38;5;129;01mis\u001b[39;00m \u001b[38;5;129;01mnot\u001b[39;00m \u001b[38;5;28;01mNone\u001b[39;00m \u001b[38;5;129;01mand\u001b[39;00m mode \u001b[38;5;241m==\u001b[39m \u001b[38;5;124m'\u001b[39m\u001b[38;5;124mr\u001b[39m\u001b[38;5;124m'\u001b[39m:\n",
      "File \u001b[0;32m~/anaconda3/envs/srreval/lib/python3.10/gzip.py:174\u001b[0m, in \u001b[0;36mGzipFile.__init__\u001b[0;34m(self, filename, mode, compresslevel, fileobj, mtime)\u001b[0m\n\u001b[1;32m    172\u001b[0m     mode \u001b[38;5;241m+\u001b[39m\u001b[38;5;241m=\u001b[39m \u001b[38;5;124m'\u001b[39m\u001b[38;5;124mb\u001b[39m\u001b[38;5;124m'\u001b[39m\n\u001b[1;32m    173\u001b[0m \u001b[38;5;28;01mif\u001b[39;00m fileobj \u001b[38;5;129;01mis\u001b[39;00m \u001b[38;5;28;01mNone\u001b[39;00m:\n\u001b[0;32m--> 174\u001b[0m     fileobj \u001b[38;5;241m=\u001b[39m \u001b[38;5;28mself\u001b[39m\u001b[38;5;241m.\u001b[39mmyfileobj \u001b[38;5;241m=\u001b[39m \u001b[43mbuiltins\u001b[49m\u001b[38;5;241;43m.\u001b[39;49m\u001b[43mopen\u001b[49m\u001b[43m(\u001b[49m\u001b[43mfilename\u001b[49m\u001b[43m,\u001b[49m\u001b[43m \u001b[49m\u001b[43mmode\u001b[49m\u001b[43m \u001b[49m\u001b[38;5;129;43;01mor\u001b[39;49;00m\u001b[43m \u001b[49m\u001b[38;5;124;43m'\u001b[39;49m\u001b[38;5;124;43mrb\u001b[39;49m\u001b[38;5;124;43m'\u001b[39;49m\u001b[43m)\u001b[49m\n\u001b[1;32m    175\u001b[0m \u001b[38;5;28;01mif\u001b[39;00m filename \u001b[38;5;129;01mis\u001b[39;00m \u001b[38;5;28;01mNone\u001b[39;00m:\n\u001b[1;32m    176\u001b[0m     filename \u001b[38;5;241m=\u001b[39m \u001b[38;5;28mgetattr\u001b[39m(fileobj, \u001b[38;5;124m'\u001b[39m\u001b[38;5;124mname\u001b[39m\u001b[38;5;124m'\u001b[39m, \u001b[38;5;124m'\u001b[39m\u001b[38;5;124m'\u001b[39m)\n",
      "\u001b[0;31mFileNotFoundError\u001b[0m: [Errno 2] No such file or directory: '/Users/johannes/Library/Caches/radgraph/0.1.2/radgraph-xl.tar.gz'"
     ]
    }
   ],
   "source": [
    "from utils import get_lists\n",
    "ref_data_path = \"StanfordAIMI/srrg_findings_impression\"\n",
    "mistral = [\"Exam Type: Chest radiograph, frontal and lateral views.\\n\\nHistory: Male patient with shortness of breath.\\n\\nTechnique: Frontal and lateral chest radiography.\\n\\nComparison: Not applicable.\\n\\nFindings:\\nLungs and Airways:\\n- Low lung volumes.\\n\\nPleura:\\n- Bilateral loculated pleural effusions.\\n\\nCardiovascular:\\n- Cardiac and mediastinal silhouettes are grossly stable.\\n\\nHila and Mediastinum:\\n- Persistent elevation of the right hemidiaphragm.\\n\\nTubes, Catheters, and Support Devices:\\n- Status post median sternotomy with superior two most wires fractured/deshiscence.\\n\\nMusculoskeletal and Chest Wall:\\n- No specific findings reported.\\n\\nAbdominal:\\n- No specific findings reported.\\n\\nOther:\\n- Right base opacity, possibly due to atelectasis.\\n\\nImpression:\\n1. Bilateral loculated pleural effusions.\\n2. Right base opacity, which may represent atelectasis.\\n3. Persistent elevation of the right hemidiaphragm.\\n4. Status post median sternotomy with fractured/deshiscenced wires.<|end|>\"]\n",
    "bert = [\"<|assistant|>Exam Type: Chest radiography, including frontal and lateral views.\\n\\nHistory: Male patient with shortness of breath.\\n\\nTechnique: Frontal and lateral chest radiography.\\n\\nComparison: Not applicable.\\n\\nFindings:\\nLungs and Airways:\\n- Low lung volumes.\\n\\nPleura:\\n- Bilateral loculated pleural effusions.\\n\\nCardiovascular:\\n- Cardiac silhouette appears grossly stable.\\n\\nHila and Mediastinum:\\n- Mediastinal silhouette appears grossly stable.\\n\\nTubes, Catheters, and Support Devices:\\n- Status post median sternotomy with superior two most wires fractured or deshiscence.\\n\\nMusculoskeletal and Chest Wall:\\n- Persistent elevation of the right hemidiaphragm.\\n\\nImpression:\\n1. Bilateral loculated pleural effusions.\\n2. Right base opacity, possibly due to atelectasis.\\n3. Persistent elevation of the right hemidiaphragm.\\n4. Status post median sternotomy with fractured sternotomy wires.\"]\n",
    "pred_file_mimic = \"pred.json\"\n",
    "ref_findings_mimic_list, ref_impression_mimic_list, pred_findings_mimic_list, pred_impression_mimic_list = get_lists(pred_file_mimic, ref_data_path, dataset_name=\"mimic\", split=\"test_reviewed\")    \n",
    "ref_findings_mimic_list = [\"Findings:\\n\\nLungs and Airways:\\n- Low lung volumes.\\n\\nPleura:\\n- Bilateral loculated pleural effusions.\\n\\nCardiovascular:\\n- Cardiac silhouette appears grossly stable.\\n\\nHila and Mediastinum:\\n- Mediastinal silhouette appears grossly stable.\\n\\nTubes, Catheters, and Support Devices:\\n- Status post median sternotomy with the superior two sternotomy wires fractured.\\n\\nMusculoskeletal and Chest Wall:\\n- Persistent elevation of the right hemidiaphragm.\\n- Right base opacity, suggestive of atelectasis.\\n\\n\"]\n",
    "ref_impression_mimic_list = [\"Impression:\\n1. Bilateral loculated pleural effusions.\\n2. Right base opacity, likely representing atelectasis.\\n3. Persistent elevation of the right hemidiaphragm.\\n4. Fractured superior sternotomy wires.\"]\n",
    "from StructEval.structeval.StructEval import StructEval\n",
    "rr = StructEval(do_radgraph=True,\n",
    "                    do_green=False,\n",
    "                    do_bleu=True,   \n",
    "                    do_rouge=True,\n",
    "                    do_bertscore=True,\n",
    "                    do_diseases=True)\n",
    "    \n",
    "results = rr.forward(refs=ref_findings_mimic_list, hyps=pred_findings_mimic_list, section=\"findings\", aligned=False)\n",
    "results2 = rr.forward(refs=ref_impression_mimic_list, hyps=pred_impression_mimic_list, section=\"impression\", aligned=False)\n",
    "print(results)\n",
    "print(results2)"
   ]
  }
 ],
 "metadata": {
  "kernelspec": {
   "display_name": "srreval",
   "language": "python",
   "name": "python3"
  },
  "language_info": {
   "codemirror_mode": {
    "name": "ipython",
    "version": 3
   },
   "file_extension": ".py",
   "mimetype": "text/x-python",
   "name": "python",
   "nbconvert_exporter": "python",
   "pygments_lexer": "ipython3",
   "version": "3.10.0"
  }
 },
 "nbformat": 4,
 "nbformat_minor": 2
}
